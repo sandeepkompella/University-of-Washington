{
 "cells": [
  {
   "cell_type": "markdown",
   "metadata": {},
   "source": [
    "# Regression Week 4: Ridge Regression (gradient descent)"
   ]
  },
  {
   "cell_type": "markdown",
   "metadata": {},
   "source": [
    "In this notebook, you will implement ridge regression via gradient descent. You will:\n",
    "* Convert an SFrame into a Numpy array\n",
    "* Write a Numpy function to compute the derivative of the regression weights with respect to a single feature\n",
    "* Write gradient descent function to compute the regression weights given an initial weight vector, step size, tolerance, and L2 penalty"
   ]
  },
  {
   "cell_type": "markdown",
   "metadata": {},
   "source": [
    "# Fire up Turi Create"
   ]
  },
  {
   "cell_type": "markdown",
   "metadata": {},
   "source": [
    "Make sure you have the latest version of Turi Create"
   ]
  },
  {
   "cell_type": "code",
   "execution_count": 707,
   "metadata": {},
   "outputs": [],
   "source": [
    "import turicreate"
   ]
  },
  {
   "cell_type": "markdown",
   "metadata": {},
   "source": [
    "# Load in house sales data\n",
    "\n",
    "Dataset is from house sales in King County, the region where the city of Seattle, WA is located."
   ]
  },
  {
   "cell_type": "code",
   "execution_count": 708,
   "metadata": {},
   "outputs": [],
   "source": [
    "sales = turicreate.SFrame('home_data')"
   ]
  },
  {
   "cell_type": "markdown",
   "metadata": {},
   "source": [
    "If we want to do any \"feature engineering\" like creating new features or adjusting existing ones we should do this directly using the SFrames as seen in the first notebook of Week 2. For this notebook, however, we will work with the existing features."
   ]
  },
  {
   "cell_type": "markdown",
   "metadata": {},
   "source": [
    "# Import useful functions from previous notebook"
   ]
  },
  {
   "cell_type": "markdown",
   "metadata": {},
   "source": [
    "As in Week 2, we convert the SFrame into a 2D Numpy array. Copy and paste `get_numpy_data()` from the second notebook of Week 2."
   ]
  },
  {
   "cell_type": "code",
   "execution_count": 709,
   "metadata": {},
   "outputs": [],
   "source": [
    "import numpy as np # note this allows us to refer to numpy as np instead "
   ]
  },
  {
   "cell_type": "code",
   "execution_count": 710,
   "metadata": {},
   "outputs": [],
   "source": [
    "def get_numpy_data(data_sframe, features, output):\n",
    "    data_sframe['constant'] = 1 # this is how you add a constant column to an SFrame\n",
    "    # add the column 'constant' to the front of the features list so that we can extract it along with the others:\n",
    "    features = ['constant'] + features # this is how you combine two lists\n",
    "    # select the columns of data_SFrame given by the features list into the SFrame features_sframe \n",
    "    #(now including constant):\n",
    "    features_sframe = data_sframe[features]\n",
    "    # the following line will convert the features_SFrame into a numpy matrix:\n",
    "    feature_matrix = features_sframe.to_numpy()\n",
    "    # assign the column of data_sframe associated with the output to the SArray output_sarray\n",
    "    output_sarray = data_sframe['price']\n",
    "\n",
    "    # the following will convert the SArray into a numpy array by first converting it to a list\n",
    "    output_array = output_sarray.to_numpy()\n",
    "    return(feature_matrix, output_array)"
   ]
  },
  {
   "cell_type": "markdown",
   "metadata": {},
   "source": [
    "Also, copy and paste the `predict_output()` function to compute the predictions for an entire matrix of features given the matrix and the weights:"
   ]
  },
  {
   "cell_type": "code",
   "execution_count": 711,
   "metadata": {},
   "outputs": [],
   "source": [
    "def predict_output(feature_matrix, weights):\n",
    "    # assume feature_matrix is a numpy matrix containing the features as columns and weights is a corresponding numpy array\n",
    "    # create the predictions vector by using np.dot()\n",
    "    predictions = np.dot(feature_matrix, weights)\n",
    "    return(predictions)"
   ]
  },
  {
   "cell_type": "markdown",
   "metadata": {},
   "source": [
    "# Computing the Derivative"
   ]
  },
  {
   "cell_type": "markdown",
   "metadata": {},
   "source": [
    "We are now going to move to computing the derivative of the regression cost function. Recall that the cost function is the sum over the data points of the squared difference between an observed output and a predicted output, plus the L2 penalty term.\n",
    "```\n",
    "Cost(w)\n",
    "= SUM[ (prediction - output)^2 ]\n",
    "+ l2_penalty*(w[0]^2 + w[1]^2 + ... + w[k]^2).\n",
    "```\n",
    "\n",
    "Since the derivative of a sum is the sum of the derivatives, we can take the derivative of the first part (the RSS) as we did in the notebook for the unregularized case in Week 2 and add the derivative of the regularization part.  As we saw, the derivative of the RSS with respect to `w[i]` can be written as: \n",
    "```\n",
    "2*SUM[ error*[feature_i] ].\n",
    "```\n",
    "The derivative of the regularization term with respect to `w[i]` is:\n",
    "```\n",
    "2*l2_penalty*w[i].\n",
    "```\n",
    "Summing both, we get\n",
    "```\n",
    "2*SUM[ error*[feature_i] ] + 2*l2_penalty*w[i].\n",
    "```\n",
    "That is, the derivative for the weight for feature i is the sum (over data points) of 2 times the product of the error and the feature itself, plus `2*l2_penalty*w[i]`. \n",
    "\n",
    "**We will not regularize the constant.**  Thus, in the case of the constant, the derivative is just twice the sum of the errors (without the `2*l2_penalty*w[0]` term).\n",
    "\n",
    "Recall that twice the sum of the product of two vectors is just twice the dot product of the two vectors. Therefore the derivative for the weight for feature_i is just two times the dot product between the values of feature_i and the current errors, plus `2*l2_penalty*w[i]`.\n",
    "\n",
    "With this in mind complete the following derivative function which computes the derivative of the weight given the value of the feature (over all data points) and the errors (over all data points).  To decide when to we are dealing with the constant (so we don't regularize it) we added the extra parameter to the call `feature_is_constant` which you should set to `True` when computing the derivative of the constant and `False` otherwise."
   ]
  },
  {
   "cell_type": "code",
   "execution_count": 712,
   "metadata": {},
   "outputs": [],
   "source": [
    "def feature_derivative_ridge(errors, feature, weight, l2_penalty, feature_is_constant):\n",
    "    derivative = 2 * np.dot(errors, feature)\n",
    "    # If feature_is_constant is True, derivative is twice the dot product of errors and feature\n",
    "    if not feature_is_constant:\n",
    "        derivative +=  2 * l2_penalty * weight\n",
    "    # Otherwise, derivative is twice the dot product plus 2*l2_penalty*weight\n",
    "    return derivative\n"
   ]
  },
  {
   "cell_type": "markdown",
   "metadata": {},
   "source": [
    "To test your feature derivartive run the following:"
   ]
  },
  {
   "cell_type": "code",
   "execution_count": 713,
   "metadata": {},
   "outputs": [
    {
     "name": "stdout",
     "output_type": "stream",
     "text": [
      "with False -56554166782350.0\n",
      "-56554166782350.0\n",
      "\n",
      "with True -22446749336.0\n",
      "-22446749336.0\n"
     ]
    }
   ],
   "source": [
    "(example_features, example_output) = get_numpy_data(sales, ['sqft_living'], 'price') \n",
    "my_weights = np.array([1., 10.])\n",
    "test_predictions = predict_output(example_features, my_weights) \n",
    "errors = test_predictions - example_output # prediction errors\n",
    "\n",
    "# next two lines should print the same values\n",
    "print(\"with False\", feature_derivative_ridge(errors, example_features[:,1], my_weights[1], 1, False))\n",
    "print(np.sum(errors*example_features[:,1])*2+20.)\n",
    "print('')\n",
    "\n",
    "# next two lines should print the same values\n",
    "print(\"with True\", feature_derivative_ridge(errors, example_features[:,0], my_weights[0], 1, True))\n",
    "print(np.sum(errors)*2.)"
   ]
  },
  {
   "cell_type": "markdown",
   "metadata": {},
   "source": [
    "# Gradient Descent"
   ]
  },
  {
   "cell_type": "markdown",
   "metadata": {},
   "source": [
    "Now we will write a function that performs a gradient descent. The basic premise is simple. Given a starting point we update the current weights by moving in the negative gradient direction. Recall that the gradient is the direction of *increase* and therefore the negative gradient is the direction of *decrease* and we're trying to *minimize* a cost function. \n",
    "\n",
    "The amount by which we move in the negative gradient *direction*  is called the 'step size'. We stop when we are 'sufficiently close' to the optimum. Unlike in Week 2, this time we will set a **maximum number of iterations** and take gradient steps until we reach this maximum number. If no maximum number is supplied, the maximum should be set 100 by default. (Use default parameter values in Python.)\n",
    "\n",
    "With this in mind, complete the following gradient descent function below using your derivative function above. For each step in the gradient descent, we update the weight for each feature before computing our stopping criteria."
   ]
  },
  {
   "cell_type": "code",
   "execution_count": 714,
   "metadata": {},
   "outputs": [],
   "source": [
    "def ridge_regression_gradient_descent(feature_matrix, output, initial_weights, step_size, l2_penalty, max_iterations=100):\n",
    "    print('Starting gradient descent with l2_penalty = ' + str(l2_penalty))\n",
    "    \n",
    "    weights = np.array(initial_weights) # make sure it's a numpy array\n",
    "    iteration = 0 # iteration counter\n",
    "    print_frequency = 1  # for adjusting frequency of debugging output\n",
    "    \n",
    "    #while not reached maximum number of iterations:\n",
    "    while iteration < 100:\n",
    "        iteration += 1  # increment iteration counter\n",
    "        ### === code section for adjusting frequency of debugging output. ===\n",
    "        if iteration == 10:\n",
    "            print_frequency = 10\n",
    "        if iteration == 100:\n",
    "            print_frequency = 100\n",
    "        if iteration%print_frequency==0:\n",
    "            print('Iteration = ' + str(iteration))\n",
    "        ### === end code section ===\n",
    "        \n",
    "        # compute the predictions based on feature_matrix and weights using your predict_output() function\n",
    "        predictions = predict_output(feature_matrix, weights)\n",
    "        # compute the errors as predictions - output\n",
    "        errors = predictions - output\n",
    "\n",
    "        # from time to time, print the value of the cost function\n",
    "        if iteration%print_frequency==0:\n",
    "            print('Cost function = ', str(np.dot(errors,errors) + l2_penalty*(np.dot(weights,weights) - weights[0]**2)))\n",
    "        \n",
    "        for i in range(len(weights)): # loop over each weight\n",
    "            # Recall that feature_matrix[:,i] is the feature column associated with weights[i]\n",
    "            # compute the derivative for weight[i].\n",
    "            #(Remember: when i=0, you are computing the derivative of the constant!)\n",
    "            if i == 0:\n",
    "                derivative_i = feature_derivative_ridge(errors, feature_matrix[:,i], weights[i], 1, False)\n",
    "            else:\n",
    "                derivative_i = feature_derivative_ridge(errors, feature_matrix[:,i], weights, 1, True)\n",
    "            # subtract the step size times the derivative from the current weight\n",
    "            weights[i] =  derivative_i*step_size \n",
    "        iteration = iteration+1\n",
    "            \n",
    "    print('Done with gradient descent at iteration ', iteration)\n",
    "    print('Learned weights = ', str(weights))\n",
    "    return weights\n",
    "\n"
   ]
  },
  {
   "cell_type": "markdown",
   "metadata": {},
   "source": [
    "# Visualizing effect of L2 penalty"
   ]
  },
  {
   "cell_type": "markdown",
   "metadata": {},
   "source": [
    "The L2 penalty gets its name because it causes weights to have small L2 norms than otherwise. Let's see how large weights get penalized. Let us consider a simple model with 1 feature:"
   ]
  },
  {
   "cell_type": "code",
   "execution_count": 715,
   "metadata": {},
   "outputs": [],
   "source": [
    "simple_features = ['sqft_living']\n",
    "my_output = 'price'"
   ]
  },
  {
   "cell_type": "markdown",
   "metadata": {},
   "source": [
    "Let us split the dataset into training set and test set. Make sure to use `seed=0`:"
   ]
  },
  {
   "cell_type": "code",
   "execution_count": 716,
   "metadata": {},
   "outputs": [],
   "source": [
    "train_data,test_data = sales.random_split(.8,seed=0)"
   ]
  },
  {
   "cell_type": "markdown",
   "metadata": {},
   "source": [
    "In this part, we will only use `'sqft_living'` to predict `'price'`. Use the `get_numpy_data` function to get a Numpy versions of your data with only this feature, for both the `train_data` and the `test_data`. "
   ]
  },
  {
   "cell_type": "code",
   "execution_count": 717,
   "metadata": {},
   "outputs": [],
   "source": [
    "(simple_feature_matrix, output) = get_numpy_data(train_data, simple_features, my_output)\n",
    "(simple_test_feature_matrix, test_output) = get_numpy_data(test_data, simple_features, my_output)"
   ]
  },
  {
   "cell_type": "markdown",
   "metadata": {},
   "source": [
    "Let's set the parameters for our optimization:"
   ]
  },
  {
   "cell_type": "code",
   "execution_count": 718,
   "metadata": {},
   "outputs": [],
   "source": [
    "initial_weights = np.array([0., 0.])\n",
    "step_size = 1e-12\n",
    "max_iterations=1000"
   ]
  },
  {
   "cell_type": "markdown",
   "metadata": {},
   "source": [
    "First, let's consider no regularization.  Set the `l2_penalty` to `0.0` and run your ridge regression algorithm to learn the weights of your model.  Call your weights:\n",
    "\n",
    "`simple_weights_0_penalty`\n",
    "\n",
    "we'll use them later."
   ]
  },
  {
   "cell_type": "code",
   "execution_count": 719,
   "metadata": {},
   "outputs": [
    {
     "name": "stdout",
     "output_type": "stream",
     "text": [
      "Starting gradient descent with l2_penalty = 0.0\n",
      "Iteration = 1\n",
      "Cost function =  7433051851026171.0\n",
      "Iteration = 3\n",
      "Cost function =  9875001622005052.0\n",
      "Iteration = 5\n",
      "Cost function =  1.0357246315294352e+16\n",
      "Iteration = 7\n",
      "Cost function =  1.0445414775608154e+16\n",
      "Iteration = 9\n",
      "Cost function =  1.0461326013808526e+16\n",
      "Iteration = 11\n",
      "Cost function =  1.0464190773299892e+16\n",
      "Iteration = 13\n",
      "Cost function =  1.0464706347981176e+16\n",
      "Iteration = 15\n",
      "Cost function =  1.046479912971355e+16\n",
      "Iteration = 17\n",
      "Cost function =  1.0464815826293476e+16\n",
      "Iteration = 19\n",
      "Cost function =  1.0464818830927014e+16\n",
      "Iteration = 21\n",
      "Cost function =  1.0464819371625698e+16\n",
      "Iteration = 23\n",
      "Cost function =  1.0464819468927098e+16\n",
      "Iteration = 25\n",
      "Cost function =  1.0464819486436964e+16\n",
      "Iteration = 27\n",
      "Cost function =  1.0464819489587952e+16\n",
      "Iteration = 29\n",
      "Cost function =  1.0464819490154986e+16\n",
      "Iteration = 31\n",
      "Cost function =  1.0464819490257028e+16\n",
      "Iteration = 33\n",
      "Cost function =  1.0464819490275392e+16\n",
      "Iteration = 35\n",
      "Cost function =  1.0464819490278694e+16\n",
      "Iteration = 37\n",
      "Cost function =  1.0464819490279288e+16\n",
      "Iteration = 39\n",
      "Cost function =  1.0464819490279398e+16\n",
      "Iteration = 41\n",
      "Cost function =  1.0464819490279416e+16\n",
      "Iteration = 43\n",
      "Cost function =  1.046481949027942e+16\n",
      "Iteration = 45\n",
      "Cost function =  1.046481949027942e+16\n",
      "Iteration = 47\n",
      "Cost function =  1.046481949027942e+16\n",
      "Iteration = 49\n",
      "Cost function =  1.046481949027942e+16\n",
      "Iteration = 51\n",
      "Cost function =  1.046481949027942e+16\n",
      "Iteration = 53\n",
      "Cost function =  1.046481949027942e+16\n",
      "Iteration = 55\n",
      "Cost function =  1.046481949027942e+16\n",
      "Iteration = 57\n",
      "Cost function =  1.046481949027942e+16\n",
      "Iteration = 59\n",
      "Cost function =  1.046481949027942e+16\n",
      "Iteration = 61\n",
      "Cost function =  1.046481949027942e+16\n",
      "Iteration = 63\n",
      "Cost function =  1.046481949027942e+16\n",
      "Iteration = 65\n",
      "Cost function =  1.046481949027942e+16\n",
      "Iteration = 67\n",
      "Cost function =  1.046481949027942e+16\n",
      "Iteration = 69\n",
      "Cost function =  1.046481949027942e+16\n",
      "Iteration = 71\n",
      "Cost function =  1.046481949027942e+16\n",
      "Iteration = 73\n",
      "Cost function =  1.046481949027942e+16\n",
      "Iteration = 75\n",
      "Cost function =  1.046481949027942e+16\n",
      "Iteration = 77\n",
      "Cost function =  1.046481949027942e+16\n",
      "Iteration = 79\n",
      "Cost function =  1.046481949027942e+16\n",
      "Iteration = 81\n",
      "Cost function =  1.046481949027942e+16\n",
      "Iteration = 83\n",
      "Cost function =  1.046481949027942e+16\n",
      "Iteration = 85\n",
      "Cost function =  1.046481949027942e+16\n",
      "Iteration = 87\n",
      "Cost function =  1.046481949027942e+16\n",
      "Iteration = 89\n",
      "Cost function =  1.046481949027942e+16\n",
      "Iteration = 91\n",
      "Cost function =  1.046481949027942e+16\n",
      "Iteration = 93\n",
      "Cost function =  1.046481949027942e+16\n",
      "Iteration = 95\n",
      "Cost function =  1.046481949027942e+16\n",
      "Iteration = 97\n",
      "Cost function =  1.046481949027942e+16\n",
      "Iteration = 99\n",
      "Cost function =  1.046481949027942e+16\n",
      "Done with gradient descent at iteration  100\n",
      "Learned weights =  [-2.29268786e-02 -5.77194055e+01]\n"
     ]
    }
   ],
   "source": [
    "l2_penalty = 0.0\n",
    "simple_weights_0_penalty = ridge_regression_gradient_descent(simple_feature_matrix, output, \n",
    "                                                             initial_weights, step_size, l2_penalty, max_iterations)\n"
   ]
  },
  {
   "cell_type": "markdown",
   "metadata": {},
   "source": [
    "Next, let's consider high regularization.  Set the `l2_penalty` to `1e11` and run your ridge regression algorithm to learn the weights of your model.  Call your weights:\n",
    "\n",
    "`simple_weights_high_penalty`\n",
    "\n",
    "we'll use them later."
   ]
  },
  {
   "cell_type": "code",
   "execution_count": 720,
   "metadata": {},
   "outputs": [
    {
     "name": "stdout",
     "output_type": "stream",
     "text": [
      "Starting gradient descent with l2_penalty = 100000000000.0\n",
      "Iteration = 1\n",
      "Cost function =  7433051851026171.0\n",
      "Iteration = 3\n",
      "Cost function =  1.0099038307282156e+16\n",
      "Iteration = 5\n",
      "Cost function =  1.0669171168683286e+16\n",
      "Iteration = 7\n",
      "Cost function =  1.0774696088647458e+16\n",
      "Iteration = 9\n",
      "Cost function =  1.0793780596238082e+16\n",
      "Iteration = 11\n",
      "Cost function =  1.0797218016803058e+16\n",
      "Iteration = 13\n",
      "Cost function =  1.07978366969891e+16\n",
      "Iteration = 15\n",
      "Cost function =  1.0797948034760092e+16\n",
      "Iteration = 17\n",
      "Cost function =  1.0797968070645596e+16\n",
      "Iteration = 19\n",
      "Cost function =  1.0797971676205426e+16\n",
      "Iteration = 21\n",
      "Cost function =  1.079797232504382e+16\n",
      "Iteration = 23\n",
      "Cost function =  1.0797972441805496e+16\n",
      "Iteration = 25\n",
      "Cost function =  1.0797972462817334e+16\n",
      "Iteration = 27\n",
      "Cost function =  1.079797246659852e+16\n",
      "Iteration = 29\n",
      "Cost function =  1.0797972467278962e+16\n",
      "Iteration = 31\n",
      "Cost function =  1.0797972467401412e+16\n",
      "Iteration = 33\n",
      "Cost function =  1.0797972467423448e+16\n",
      "Iteration = 35\n",
      "Cost function =  1.079797246742741e+16\n",
      "Iteration = 37\n",
      "Cost function =  1.0797972467428124e+16\n",
      "Iteration = 39\n",
      "Cost function =  1.0797972467428256e+16\n",
      "Iteration = 41\n",
      "Cost function =  1.0797972467428278e+16\n",
      "Iteration = 43\n",
      "Cost function =  1.0797972467428282e+16\n",
      "Iteration = 45\n",
      "Cost function =  1.0797972467428282e+16\n",
      "Iteration = 47\n",
      "Cost function =  1.0797972467428282e+16\n",
      "Iteration = 49\n",
      "Cost function =  1.0797972467428282e+16\n",
      "Iteration = 51\n",
      "Cost function =  1.0797972467428282e+16\n",
      "Iteration = 53\n",
      "Cost function =  1.0797972467428282e+16\n",
      "Iteration = 55\n",
      "Cost function =  1.0797972467428282e+16\n",
      "Iteration = 57\n",
      "Cost function =  1.0797972467428282e+16\n",
      "Iteration = 59\n",
      "Cost function =  1.0797972467428282e+16\n",
      "Iteration = 61\n",
      "Cost function =  1.0797972467428282e+16\n",
      "Iteration = 63\n",
      "Cost function =  1.0797972467428282e+16\n",
      "Iteration = 65\n",
      "Cost function =  1.0797972467428282e+16\n",
      "Iteration = 67\n",
      "Cost function =  1.0797972467428282e+16\n",
      "Iteration = 69\n",
      "Cost function =  1.0797972467428282e+16\n",
      "Iteration = 71\n",
      "Cost function =  1.0797972467428282e+16\n",
      "Iteration = 73\n",
      "Cost function =  1.0797972467428282e+16\n",
      "Iteration = 75\n",
      "Cost function =  1.0797972467428282e+16\n",
      "Iteration = 77\n",
      "Cost function =  1.0797972467428282e+16\n",
      "Iteration = 79\n",
      "Cost function =  1.0797972467428282e+16\n",
      "Iteration = 81\n",
      "Cost function =  1.0797972467428282e+16\n",
      "Iteration = 83\n",
      "Cost function =  1.0797972467428282e+16\n",
      "Iteration = 85\n",
      "Cost function =  1.0797972467428282e+16\n",
      "Iteration = 87\n",
      "Cost function =  1.0797972467428282e+16\n",
      "Iteration = 89\n",
      "Cost function =  1.0797972467428282e+16\n",
      "Iteration = 91\n",
      "Cost function =  1.0797972467428282e+16\n",
      "Iteration = 93\n",
      "Cost function =  1.0797972467428282e+16\n",
      "Iteration = 95\n",
      "Cost function =  1.0797972467428282e+16\n",
      "Iteration = 97\n",
      "Cost function =  1.0797972467428282e+16\n",
      "Iteration = 99\n",
      "Cost function =  1.0797972467428282e+16\n",
      "Done with gradient descent at iteration  100\n",
      "Learned weights =  [-2.29268786e-02 -5.77194055e+01]\n"
     ]
    }
   ],
   "source": [
    "l2_penalty = 1e11\n",
    "simple_weights_high_penalty = ridge_regression_gradient_descent(simple_feature_matrix, output, \n",
    "                                                             initial_weights, step_size, l2_penalty, max_iterations)\n"
   ]
  },
  {
   "cell_type": "markdown",
   "metadata": {},
   "source": [
    "This code will plot the two learned models.  (The blue line is for the model with no regularization and the red line is for the one with high regularization.)"
   ]
  },
  {
   "cell_type": "code",
   "execution_count": 721,
   "metadata": {},
   "outputs": [
    {
     "data": {
      "text/plain": [
       "[<matplotlib.lines.Line2D at 0x1a2defbf50>,\n",
       " <matplotlib.lines.Line2D at 0x1a2d8666d0>,\n",
       " <matplotlib.lines.Line2D at 0x1a2df28390>,\n",
       " <matplotlib.lines.Line2D at 0x1a2df28550>,\n",
       " <matplotlib.lines.Line2D at 0x1a2df28710>,\n",
       " <matplotlib.lines.Line2D at 0x1a2df288d0>]"
      ]
     },
     "execution_count": 721,
     "metadata": {},
     "output_type": "execute_result"
    },
    {
     "data": {
      "image/png": "[encoded data removed]",
      "text/plain": [
       "<Figure size 432x288 with 1 Axes>"
      ]
     },
     "metadata": {
      "needs_background": "light"
     },
     "output_type": "display_data"
    }
   ],
   "source": [
    "import matplotlib.pyplot as plt\n",
    "%matplotlib inline\n",
    "plt.plot(simple_feature_matrix,output,'k.',\n",
    "         simple_feature_matrix,predict_output(simple_feature_matrix, simple_weights_0_penalty),'b-',\n",
    "        simple_feature_matrix,predict_output(simple_feature_matrix, simple_weights_high_penalty),'r-')"
   ]
  },
  {
   "cell_type": "markdown",
   "metadata": {},
   "source": [
    "Compute the RSS on the TEST data for the following three sets of weights:\n",
    "1. The initial weights (all zeros)\n",
    "2. The weights learned with no regularization\n",
    "3. The weights learned with high regularization\n",
    "\n",
    "Which weights perform best?"
   ]
  },
  {
   "cell_type": "code",
   "execution_count": 722,
   "metadata": {},
   "outputs": [],
   "source": [
    "def get_residual_sum_of_squares(feature_matrix, output, weights):\n",
    "    predictions = predict_output(feature_matrix, weights)\n",
    "    residuals = predictions - output\n",
    "    RSS = (residuals * residuals).sum()\n",
    "    return(RSS)"
   ]
  },
  {
   "cell_type": "code",
   "execution_count": 723,
   "metadata": {},
   "outputs": [
    {
     "name": "stdout",
     "output_type": "stream",
     "text": [
      "RSS weights learned with initial weights (all zeros):  1784273282524564.0\n",
      "RSS weights learned with no regularization:  2517986640129909.0\n"
     ]
    }
   ],
   "source": [
    "initial_weights = np.array([0., 0.])\n",
    "rss_initial = get_residual_sum_of_squares(simple_test_feature_matrix, test_output, initial_weights)\n",
    "print(\"RSS weights learned with initial weights (all zeros): \", rss_initial)\n",
    "\n",
    "rss_weights_noregulalisation = get_residual_sum_of_squares(simple_test_feature_matrix, test_output, simple_weights_0_penalty)\n",
    "print(\"RSS weights learned with no regularization: \", rss_weights_noregulalisation)\n"
   ]
  },
  {
   "cell_type": "code",
   "execution_count": 724,
   "metadata": {},
   "outputs": [
    {
     "name": "stdout",
     "output_type": "stream",
     "text": [
      "RSS weights learned with high regularization:  2517986640129909.0\n"
     ]
    }
   ],
   "source": [
    "rss_weights_regulalisation = get_residual_sum_of_squares(simple_test_feature_matrix, test_output, simple_weights_high_penalty)\n",
    "print(\"RSS weights learned with high regularization: \", rss_weights_regulalisation)\n"
   ]
  },
  {
   "cell_type": "markdown",
   "metadata": {},
   "source": [
    "***QUIZ QUESTIONS***\n",
    "1. What is the value of the coefficient for `sqft_living` that you learned with no regularization, rounded to 1 decimal place?  What about the one with high regularization?\n",
    "2. Comparing the lines you fit with the with no regularization versus high regularization, which one is steeper?\n",
    "3. What are the RSS on the test data for each of the set of weights above (initial, no regularization, high regularization)? \n"
   ]
  },
  {
   "cell_type": "markdown",
   "metadata": {},
   "source": [
    "# Running a multiple regression with L2 penalty"
   ]
  },
  {
   "cell_type": "markdown",
   "metadata": {},
   "source": [
    "Let us now consider a model with 2 features: `['sqft_living', 'sqft_living15']`."
   ]
  },
  {
   "cell_type": "markdown",
   "metadata": {},
   "source": [
    "First, create Numpy versions of your training and test data with these two features. "
   ]
  },
  {
   "cell_type": "code",
   "execution_count": 725,
   "metadata": {},
   "outputs": [],
   "source": [
    "model_features = ['sqft_living', 'sqft_living15'] # sqft_living15 is the average squarefeet for the nearest 15 neighbors. \n",
    "my_output = 'price'\n",
    "(feature_matrix, output) = get_numpy_data(train_data, model_features, my_output)\n",
    "(test_feature_matrix, test_output) = get_numpy_data(test_data, model_features, my_output)"
   ]
  },
  {
   "cell_type": "markdown",
   "metadata": {},
   "source": [
    "We need to re-inialize the weights, since we have one extra parameter. Let us also set the step size and maximum number of iterations."
   ]
  },
  {
   "cell_type": "code",
   "execution_count": 726,
   "metadata": {},
   "outputs": [],
   "source": [
    "initial_weights = np.array([0.0,0.0,0.0])\n",
    "step_size = 1e-12\n",
    "max_iterations = 1000"
   ]
  },
  {
   "cell_type": "markdown",
   "metadata": {},
   "source": [
    "First, let's consider no regularization.  Set the `l2_penalty` to `0.0` and run your ridge regression algorithm to learn the weights of your model.  Call your weights:\n",
    "\n",
    "`multiple_weights_0_penalty`"
   ]
  },
  {
   "cell_type": "code",
   "execution_count": 727,
   "metadata": {},
   "outputs": [
    {
     "name": "stdout",
     "output_type": "stream",
     "text": [
      "Starting gradient descent with l2_penalty = 0.0\n",
      "Iteration = 1\n",
      "Cost function =  7433051851026171.0\n",
      "Iteration = 3\n",
      "Cost function =  1.213150221052679e+16\n",
      "Iteration = 5\n",
      "Cost function =  1.3957629854473384e+16\n",
      "Iteration = 7\n",
      "Cost function =  1.4586595830023384e+16\n",
      "Iteration = 9\n",
      "Cost function =  1.4795915530995324e+16\n",
      "Iteration = 11\n",
      "Cost function =  1.4864830972192252e+16\n",
      "Iteration = 13\n",
      "Cost function =  1.488744159221658e+16\n",
      "Iteration = 15\n",
      "Cost function =  1.489485155274436e+16\n",
      "Iteration = 17\n",
      "Cost function =  1.4897279047167308e+16\n",
      "Iteration = 19\n",
      "Cost function =  1.489807419495274e+16\n",
      "Iteration = 21\n",
      "Cost function =  1.489833464245518e+16\n",
      "Iteration = 23\n",
      "Cost function =  1.489841994989027e+16\n",
      "Iteration = 25\n",
      "Cost function =  1.4898447891519086e+16\n",
      "Iteration = 27\n",
      "Cost function =  1.4898457043517726e+16\n",
      "Iteration = 29\n",
      "Cost function =  1.489846004116118e+16\n",
      "Iteration = 31\n",
      "Cost function =  1.4898461023008458e+16\n",
      "Iteration = 33\n",
      "Cost function =  1.4898461344602416e+16\n",
      "Iteration = 35\n",
      "Cost function =  1.4898461449937202e+16\n",
      "Iteration = 37\n",
      "Cost function =  1.4898461484438526e+16\n",
      "Iteration = 39\n",
      "Cost function =  1.4898461495739076e+16\n",
      "Iteration = 41\n",
      "Cost function =  1.489846149944046e+16\n",
      "Iteration = 43\n",
      "Cost function =  1.4898461500652808e+16\n",
      "Iteration = 45\n",
      "Cost function =  1.4898461501049898e+16\n",
      "Iteration = 47\n",
      "Cost function =  1.4898461501179964e+16\n",
      "Iteration = 49\n",
      "Cost function =  1.4898461501222564e+16\n",
      "Iteration = 51\n",
      "Cost function =  1.4898461501236518e+16\n",
      "Iteration = 53\n",
      "Cost function =  1.4898461501241086e+16\n",
      "Iteration = 55\n",
      "Cost function =  1.4898461501242586e+16\n",
      "Iteration = 57\n",
      "Cost function =  1.4898461501243076e+16\n",
      "Iteration = 59\n",
      "Cost function =  1.4898461501243236e+16\n",
      "Iteration = 61\n",
      "Cost function =  1.4898461501243288e+16\n",
      "Iteration = 63\n",
      "Cost function =  1.4898461501243306e+16\n",
      "Iteration = 65\n",
      "Cost function =  1.4898461501243312e+16\n",
      "Iteration = 67\n",
      "Cost function =  1.4898461501243314e+16\n",
      "Iteration = 69\n",
      "Cost function =  1.4898461501243314e+16\n",
      "Iteration = 71\n",
      "Cost function =  1.4898461501243314e+16\n",
      "Iteration = 73\n",
      "Cost function =  1.4898461501243314e+16\n",
      "Iteration = 75\n",
      "Cost function =  1.4898461501243314e+16\n",
      "Iteration = 77\n",
      "Cost function =  1.4898461501243314e+16\n",
      "Iteration = 79\n",
      "Cost function =  1.4898461501243314e+16\n",
      "Iteration = 81\n",
      "Cost function =  1.4898461501243314e+16\n",
      "Iteration = 83\n",
      "Cost function =  1.4898461501243314e+16\n",
      "Iteration = 85\n",
      "Cost function =  1.4898461501243314e+16\n",
      "Iteration = 87\n",
      "Cost function =  1.4898461501243314e+16\n",
      "Iteration = 89\n",
      "Cost function =  1.4898461501243314e+16\n",
      "Iteration = 91\n",
      "Cost function =  1.4898461501243314e+16\n",
      "Iteration = 93\n",
      "Cost function =  1.4898461501243314e+16\n",
      "Iteration = 95\n",
      "Cost function =  1.4898461501243314e+16\n",
      "Iteration = 97\n",
      "Cost function =  1.4898461501243314e+16\n",
      "Iteration = 99\n",
      "Cost function =  1.4898461501243314e+16\n",
      "Done with gradient descent at iteration  100\n",
      "Learned weights =  [-2.81965238e-02 -7.00999033e+01 -6.33506886e+01]\n"
     ]
    }
   ],
   "source": [
    "l2_penalty =0.0\n",
    "multiple_weights_0_penalty = ridge_regression_gradient_descent(feature_matrix, output, \n",
    "                                                             initial_weights, step_size, l2_penalty, max_iterations)\n"
   ]
  },
  {
   "cell_type": "markdown",
   "metadata": {},
   "source": [
    "Next, let's consider high regularization.  Set the `l2_penalty` to `1e11` and run your ridge regression algorithm to learn the weights of your model.  Call your weights:\n",
    "\n",
    "`multiple_weights_high_penalty`"
   ]
  },
  {
   "cell_type": "code",
   "execution_count": 728,
   "metadata": {},
   "outputs": [
    {
     "name": "stdout",
     "output_type": "stream",
     "text": [
      "Starting gradient descent with l2_penalty = 100000000000.0\n",
      "Iteration = 1\n",
      "Cost function =  7433051851026171.0\n",
      "Iteration = 3\n",
      "Cost function =  1.253523966931171e+16\n",
      "Iteration = 5\n",
      "Cost function =  1.4669102992790264e+16\n",
      "Iteration = 7\n",
      "Cost function =  1.541769451559735e+16\n",
      "Iteration = 9\n",
      "Cost function =  1.5668216475053906e+16\n",
      "Iteration = 11\n",
      "Cost function =  1.5750844016942632e+16\n",
      "Iteration = 13\n",
      "Cost function =  1.5777969144990924e+16\n",
      "Iteration = 15\n",
      "Cost function =  1.5786860280473906e+16\n",
      "Iteration = 17\n",
      "Cost function =  1.5789773186085974e+16\n",
      "Iteration = 19\n",
      "Cost function =  1.5790727354010584e+16\n",
      "Iteration = 21\n",
      "Cost function =  1.5791039889999948e+16\n",
      "Iteration = 23\n",
      "Cost function =  1.5791142258812274e+16\n",
      "Iteration = 25\n",
      "Cost function =  1.5791175788754732e+16\n",
      "Iteration = 27\n",
      "Cost function =  1.5791186771151688e+16\n",
      "Iteration = 29\n",
      "Cost function =  1.5791190368323644e+16\n",
      "Iteration = 31\n",
      "Cost function =  1.5791191546540346e+16\n",
      "Iteration = 33\n",
      "Cost function =  1.5791191932453088e+16\n",
      "Iteration = 35\n",
      "Cost function =  1.5791192058854828e+16\n",
      "Iteration = 37\n",
      "Cost function =  1.5791192100256416e+16\n",
      "Iteration = 39\n",
      "Cost function =  1.5791192113817078e+16\n",
      "Iteration = 41\n",
      "Cost function =  1.5791192118258738e+16\n",
      "Iteration = 43\n",
      "Cost function =  1.5791192119713556e+16\n",
      "Iteration = 45\n",
      "Cost function =  1.5791192120190064e+16\n",
      "Iteration = 47\n",
      "Cost function =  1.5791192120346142e+16\n",
      "Iteration = 49\n",
      "Cost function =  1.5791192120397262e+16\n",
      "Iteration = 51\n",
      "Cost function =  1.5791192120414008e+16\n",
      "Iteration = 53\n",
      "Cost function =  1.5791192120419488e+16\n",
      "Iteration = 55\n",
      "Cost function =  1.5791192120421288e+16\n",
      "Iteration = 57\n",
      "Cost function =  1.5791192120421876e+16\n",
      "Iteration = 59\n",
      "Cost function =  1.5791192120422068e+16\n",
      "Iteration = 61\n",
      "Cost function =  1.5791192120422132e+16\n",
      "Iteration = 63\n",
      "Cost function =  1.5791192120422152e+16\n",
      "Iteration = 65\n",
      "Cost function =  1.579119212042216e+16\n",
      "Iteration = 67\n",
      "Cost function =  1.5791192120422162e+16\n",
      "Iteration = 69\n",
      "Cost function =  1.5791192120422162e+16\n",
      "Iteration = 71\n",
      "Cost function =  1.5791192120422162e+16\n",
      "Iteration = 73\n",
      "Cost function =  1.5791192120422162e+16\n",
      "Iteration = 75\n",
      "Cost function =  1.5791192120422162e+16\n",
      "Iteration = 77\n",
      "Cost function =  1.5791192120422162e+16\n",
      "Iteration = 79\n",
      "Cost function =  1.5791192120422162e+16\n",
      "Iteration = 81\n",
      "Cost function =  1.5791192120422162e+16\n",
      "Iteration = 83\n",
      "Cost function =  1.5791192120422162e+16\n",
      "Iteration = 85\n",
      "Cost function =  1.5791192120422162e+16\n",
      "Iteration = 87\n",
      "Cost function =  1.5791192120422162e+16\n",
      "Iteration = 89\n",
      "Cost function =  1.5791192120422162e+16\n",
      "Iteration = 91\n",
      "Cost function =  1.5791192120422162e+16\n",
      "Iteration = 93\n",
      "Cost function =  1.5791192120422162e+16\n",
      "Iteration = 95\n",
      "Cost function =  1.5791192120422162e+16\n",
      "Iteration = 97\n",
      "Cost function =  1.5791192120422162e+16\n",
      "Iteration = 99\n",
      "Cost function =  1.5791192120422162e+16\n",
      "Done with gradient descent at iteration  100\n",
      "Learned weights =  [-2.81965238e-02 -7.00999033e+01 -6.33506886e+01]\n",
      "High Prnalty is : [-2.81965238e-02 -7.00999033e+01 -6.33506886e+01]\n"
     ]
    }
   ],
   "source": [
    "l2_penalty =1e11\n",
    "multiple_weights_high_penalty = ridge_regression_gradient_descent(feature_matrix, output, \n",
    "                                                             initial_weights, step_size, l2_penalty, max_iterations)\n",
    "print(\"High Prnalty is :\", multiple_weights_high_penalty)"
   ]
  },
  {
   "cell_type": "markdown",
   "metadata": {},
   "source": [
    "Compute the RSS on the TEST data for the following three sets of weights:\n",
    "1. The initial weights (all zeros)\n",
    "2. The weights learned with no regularization\n",
    "3. The weights learned with high regularization\n",
    "\n",
    "Which weights perform best?"
   ]
  },
  {
   "cell_type": "code",
   "execution_count": 734,
   "metadata": {},
   "outputs": [
    {
     "name": "stdout",
     "output_type": "stream",
     "text": [
      "RSS weights learned with initial weights (all zeros):  7433051851026171.0\n"
     ]
    }
   ],
   "source": [
    "rss_initial = get_residual_sum_of_squares(feature_matrix, output, initial_weights)\n",
    "print(\"RSS weights learned with initial weights (all zeros): \", rss_initial)"
   ]
  },
  {
   "cell_type": "code",
   "execution_count": 735,
   "metadata": {},
   "outputs": [
    {
     "name": "stdout",
     "output_type": "stream",
     "text": [
      "RSS weights learned with no regularization:  1.4898461501243314e+16\n"
     ]
    }
   ],
   "source": [
    "rss_weights_noregularisation = get_residual_sum_of_squares(feature_matrix, output, multiple_weights_0_penalty)\n",
    "print(\"RSS weights learned with no regularization: \", rss_weights_noregularisation)"
   ]
  },
  {
   "cell_type": "code",
   "execution_count": 736,
   "metadata": {},
   "outputs": [
    {
     "name": "stdout",
     "output_type": "stream",
     "text": [
      "RSS weights learned with high regularization:  1.4898461501243314e+16\n"
     ]
    }
   ],
   "source": [
    "rss_weights_regularisation = get_residual_sum_of_squares(feature_matrix, output, multiple_weights_high_penalty)\n",
    "print(\"RSS weights learned with high regularization: \", rss_weights_regularisation)"
   ]
  },
  {
   "cell_type": "markdown",
   "metadata": {},
   "source": [
    "Predict the house price for the 1st house in the test set using the no regularization and high regularization models. (Remember that python starts indexing from 0.) How far is the prediction from the actual price?  Which weights perform best for the 1st house?"
   ]
  },
  {
   "cell_type": "code",
   "execution_count": 732,
   "metadata": {},
   "outputs": [
    {
     "name": "stdout",
     "output_type": "stream",
     "text": [
      "true house1 price ; \n",
      " 310000.0\n",
      "-213007.1156636487\n"
     ]
    }
   ],
   "source": [
    "print('true house1 price ; \\n', test_output[0])\n",
    "\n",
    "predicted_price_house1_noregularisation = predict_output(test_feature_matrix, multiple_weights_0_penalty)[0]\n",
    "print(predicted_price_house1_noregularisation)"
   ]
  },
  {
   "cell_type": "code",
   "execution_count": 739,
   "metadata": {},
   "outputs": [
    {
     "name": "stdout",
     "output_type": "stream",
     "text": [
      "-213007.1156636487\n"
     ]
    }
   ],
   "source": [
    "predicted_price_house1_highregularisation = predict_output(test_feature_matrix, multiple_weights_high_penalty)[0]\n",
    "print(predicted_price_house1_highregularisation)"
   ]
  },
  {
   "cell_type": "markdown",
   "metadata": {
    "collapsed": true
   },
   "source": [
    "***QUIZ QUESTIONS***\n",
    "1. What is the value of the coefficient for `sqft_living` that you learned with no regularization, rounded to 1 decimal place?  What about the one with high regularization?\n",
    "2. What are the RSS on the test data for each of the set of weights above (initial, no regularization, high regularization)? \n",
    "3. We make prediction for the first house in the test set using two sets of weights (no regularization vs high regularization). Which weights make better prediction <u>for that particular house</u>?"
   ]
  },
  {
   "cell_type": "code",
   "execution_count": null,
   "metadata": {},
   "outputs": [],
   "source": []
  }
 ],
 "metadata": {
  "kernelspec": {
   "display_name": "Python 3",
   "language": "python",
   "name": "python3"
  },
  "language_info": {
   "codemirror_mode": {
    "name": "ipython",
    "version": 3
   },
   "file_extension": ".py",
   "mimetype": "text/x-python",
   "name": "python",
   "nbconvert_exporter": "python",
   "pygments_lexer": "ipython3",
   "version": "3.7.6"
  }
 },
 "nbformat": 4,
 "nbformat_minor": 1
}
