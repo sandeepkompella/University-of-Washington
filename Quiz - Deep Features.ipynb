{
 "cells": [
  {
   "cell_type": "code",
   "execution_count": null,
   "metadata": {},
   "outputs": [],
   "source": [
    "import turicreate as tc\n",
    "image_train = tc.SFrame('image_train_data')\n",
    "image_test = tc.SFrame('image_test_data')\n",
    "sketch = tc.Sketch(image_train['label'])\n",
    "print(\"The most frequnt Items are: \", sketch)\n",
    "\n",
    "\n",
    "image_dog   = image_train[image_train['label']=='dog']\n",
    "image_cat   = image_train[image_train['label']=='cat']\n",
    "image_automobile  = image_train[image_train['label']=='automobile']\n",
    "image_bird   = image_train[image_train['label']=='bird']\n",
    "print(type(image_automobile))\n",
    "print(image_bird[0:3]['image'].explore())\n",
    "#print(image_bird[0:1]['label'])\n",
    "\n",
    "#create the dog knn model, cat knn model etc\n",
    "dog_model = tc.nearest_neighbors.create(image_dog, features = ['deep_features'], label = 'id')\n",
    "cat_model = tc.nearest_neighbors.create(image_cat, features = ['deep_features'], label = 'id')\n",
    "automobile_model = tc.nearest_neighbors.create(image_automobile, features = ['deep_features'], label = 'id')\n",
    "bird_model = tc.nearest_neighbors.create(image_bird, features = ['deep_features'], label = 'id')\n",
    "\n",
    "cat = image_test[0:1]\n",
    "\n",
    "image_test[0:1]['image'].show()\n",
    "image_train_cat = image_train.filter_by(['cat'],'label')\n",
    "knn_model_cat = graphlab.nearest_neighbors.create(image_train_cat,features=['deep_features'], label='id')\n",
    "cat_neighbors = get_images_from_ids(knn_model_cat.query(image_test[0:1],k=1))\n",
    "cat_neighbors['image'].show()\n",
    "    "
   ]
  },
  {
   "cell_type": "code",
   "execution_count": null,
   "metadata": {},
   "outputs": [],
   "source": [
    "print(\"The relative cat rankings are\", cat_model.query(cat))\n",
    "print(\"The relative Dog rankings are\",dog_model.query(cat))\n",
    "print(\" The mean distance for cats is\")\n",
    "print(cat_model.query(cat,k=5)['distance'].mean())\n",
    "print(\" The mean distance for dogs and cat is\")\n",
    "print(dog_model.query(cat,k=5)['distance'].mean())\n",
    "\n",
    "\n",
    "\n",
    "\n"
   ]
  },
  {
   "cell_type": "code",
   "execution_count": null,
   "metadata": {},
   "outputs": [],
   "source": [
    "image_test_cat = image_train[image_train['label']=='cat']\n",
    "image_test_dog = image_train[image_train['label']=='dog']\n",
    "image_test_bird = image_train[image_train['label']=='bird']\n",
    "image_test_automobile = image_train[image_train['label']=='automobile']\n",
    "\n",
    "testset_dog_model = tc.nearest_neighbors.create(image_test_dog, features = ['deep_features'], label = 'id')\n",
    "testset_cat_model = tc.nearest_neighbors.create(image_test_cat, features = ['deep_features'], label = 'id')\n",
    "testset_automobile_model = tc.nearest_neighbors.create(image_test_automobile, features = ['deep_features'], label = 'id')\n",
    "testset_bird_model = tc.nearest_neighbors.create(image_test_bird, features = ['deep_features'], label = 'id')\n",
    "\n",
    "dog_cat_neighbors = cat_model.query(image_test_dog, k=1)\n",
    "print(dog_cat_neighbors)\n",
    "\n",
    "dog_automobile_neighbors = automobile_model.query(image_dog,k=1)\n",
    "print(dog_automobile_neighbors)\n",
    "\n",
    "dog_bird_neighbors= bird_model.query(image_dog,k=1)\n",
    "print(\"dog_bird_neighbors=\", dog_bird_neighbors)\n",
    "dog_dog_neighbors = dog_model.query(image_dog,k=1)\n",
    "print(\"dog_dog_neighbors\", dog_dog_neighbors)\n"
   ]
  },
  {
   "cell_type": "code",
   "execution_count": null,
   "metadata": {},
   "outputs": [],
   "source": [
    "knn_classifier_model_dog = tc.nearest_neighbor_classifier.create(image_train, features=['deep_features'], target='label' )\n",
    "image_test_dog = image_test.filter_by(['dog'],'label')\n",
    "knn_classifier_model_dog.evaluate(image_test_dog,max_neighbors=1)"
   ]
  },
  {
   "cell_type": "code",
   "execution_count": null,
   "metadata": {},
   "outputs": [],
   "source": []
  }
 ],
 "metadata": {
  "kernelspec": {
   "display_name": "Python 3",
   "language": "python",
   "name": "python3"
  },
  "language_info": {
   "codemirror_mode": {
    "name": "ipython",
    "version": 3
   },
   "file_extension": ".py",
   "mimetype": "text/x-python",
   "name": "python",
   "nbconvert_exporter": "python",
   "pygments_lexer": "ipython3",
   "version": "3.7.6"
  }
 },
 "nbformat": 4,
 "nbformat_minor": 4
}
